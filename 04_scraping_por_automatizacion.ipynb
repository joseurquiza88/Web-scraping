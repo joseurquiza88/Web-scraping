{
 "cells": [
  {
   "cell_type": "markdown",
   "id": "b734d066",
   "metadata": {},
   "source": [
    "# Scraping por Automatización con Selenium\n",
    "XPath (XML Path Language)\n",
    "Un selector muy utilizado es el Xpath, basado en un lenguaje diseñado para localizar elementos en un archivo XML o HTML.\n",
    "\n",
    "Es una manera de recorrer un árbol como por ejemplo el DOM (document object model).\n",
    "\n",
    "Por ejempllo si vamos a la página del Instituto Humai y presionamos f12 veremos esto:\n",
    "\n",
    "copy-xpath\n",
    "Existen dos maneras de acceder a un elemento usando Xpath:\n",
    "\n",
    "# XPath absoluto\n",
    "Contiene la ruta completa desde el elemento raiz hasta el elemento de interes.\n",
    "- Ejemplo: /html/body/section[3]/div[2]/a[2]/div/div[1]/img\n",
    "Contra: Cualquier cambio en la ruta del elemento hace que ya no se acceda de esa forma.\n",
    "XPath relativo\n",
    "Comienza haciendo referencia al elemento que queremos ubicar en relación con una ubicación particular. Esto significa que el elemento está posicionado con relación a su posición normal.\n",
    "Ejemplo: //*[@id=\"que-hacemos-a-tag\"]/div/div[1]/img\n",
    "Cualquier cambio en el diseño de la página o la jerarquía DOM tendrá un impacto mínimo (o nulo) en el selector XPath existente.\n",
    "Su estructura básica es la siguiente:\n",
    "- **//nombreDelTag[@Atributo=\"valor\"]**\n",
    "Seleccion de nodos desconocidos\n",
    "El asterisco (*) o wildcard sirve como reemplazo para el nombre del tag, funcionando como comodín para cualquiera de ellos.\n",
    "- Ejemplo: //*[@id=\"soy_un_div\"]\n",
    "El arroba seguido de asterisco (@*) matchea cualquier atributo de un elemento.\n",
    "- Ejemplo: //h2[@*=\"soy_un_subtitulo\"]\n",
    "Algunas funciones\n",
    "contains() permite ver si un elemento contiene una string en particular. No es necesario que sea match exacto, sino que forme parte de la string.\n",
    "- Ejemplo: //div[contains(@class,\"que\")]\n",
    "\n",
    "text() nos permite obtener un elemento en base al texto que tiene dentro del tag\n",
    "- Ejemplo: //*[text()=\"SABER MÁS\"]\n",
    "\n",
    "Tambien los podriamos usar juntos: //*[contains(text(),\"SABER\")] 🤯\n",
    "\n",
    "\n",
    "\n",
    "Xpath cheatsheet super completa: https://www.lambdatest.com/blog/most-exhaustive-xpath-locators-cheat-sheet/\n",
    "\n",
    "Robots que controlan nuestro navegador 🦾\n",
    "A veces los sitios webs tienen ciertas características que hacen que los métodos que venimos utilizando no funcionen.\n",
    "\n",
    "En esos casos uno puede intentar desarrollar una especie de robot que controle nuestro navegador interactuando con internet de igual forma que lo hace un humano. Hay una herramienta llamada Selenium que puede utilizarse exactamente para eso.\n",
    "\n",
    "¿Como se hace para programar un robot para que utilice un sitio web?\n",
    "Lo principal es saber como localizar un elemento en la pagina. Selenium nos permite hacerlo de diversas formas (id, tag, clase, selector de CSS, etc)"
   ]
  },
  {
   "cell_type": "code",
   "execution_count": null,
   "id": "9ceb06a5",
   "metadata": {},
   "outputs": [],
   "source": []
  }
 ],
 "metadata": {
  "kernelspec": {
   "display_name": "Python 3",
   "language": "python",
   "name": "python3"
  },
  "language_info": {
   "codemirror_mode": {
    "name": "ipython",
    "version": 3
   },
   "file_extension": ".py",
   "mimetype": "text/x-python",
   "name": "python",
   "nbconvert_exporter": "python",
   "pygments_lexer": "ipython3",
   "version": "3.8.8"
  }
 },
 "nbformat": 4,
 "nbformat_minor": 5
}
