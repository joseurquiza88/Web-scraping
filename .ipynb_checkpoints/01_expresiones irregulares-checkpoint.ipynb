{
 "cells": [
  {
   "cell_type": "markdown",
   "id": "15b2929a",
   "metadata": {},
   "source": [
    "# Expresiones irregulares\n",
    "Este codigo fue realizado a traves de la practica del curso de HUMAI de Ciencia de datos: \n",
    "https://www.youtube.com/watch?v=JB7H4htd3tU"
   ]
  },
  {
   "cell_type": "code",
   "execution_count": null,
   "id": "404b0f1f",
   "metadata": {},
   "outputs": [],
   "source": [
    "ambién conocido popularmente como RegEx. Son un mini lenguaje de programación diseñado para realizar búsquedas en strings. Son extremadamente útiles para:\n",
    "\n",
    "Extraer datos de distintos tipos de archivos, texto o con otro tipo de codificación.\n",
    "Web scraping: como veremos en las próximas clases, las regex son un buen método para encontrar la información que se necesita en un sitio web.\n",
    "Limpieza de datos: herramienta fundamental en el repertorio del científico de datos para limpiar datos quitando caracteres \"ruidosos\", o armando nuevos \"features\" según la presencia o no de cierto texto."
   ]
  },
  {
   "cell_type": "code",
   "execution_count": 1,
   "id": "d83f6716",
   "metadata": {},
   "outputs": [
    {
     "name": "stdout",
     "output_type": "stream",
     "text": [
      "['1564232324']\n"
     ]
    }
   ],
   "source": [
    "import re \n",
    "\n",
    "# a- extraer números de una oración.\n",
    "texto = \"Mi nombre es Juan y mi teléfono es 1564232324\"\n",
    "regla_de_busqueda = \"\\d+\"\n",
    "# print(texto)\n",
    "print(re.findall(regla_de_busqueda, texto))"
   ]
  },
  {
   "cell_type": "markdown",
   "id": "58960d3a",
   "metadata": {},
   "source": [
    "Las funciones principales de la librería re son:\n",
    "- re.findall(pattern, string) para encontrar todos los resultados de una búsqueda\n",
    "- re.search(pattern, string) para encontrar el primer resultado que coincida\n",
    "- re.sub(pattern, replace, string) para substituir un texto por otro"
   ]
  },
  {
   "cell_type": "markdown",
   "id": "9463d9eb",
   "metadata": {},
   "source": [
    "<h3><center>Grupos de captura</center></h3>\n",
    "\n",
    "\n",
    "|     |                       |\n",
    "|-----|-----------------------|\n",
    "| ()  | grupo de captura      |\n",
    "|(?:) | grupo de no captura   |\n",
    "\n",
    "<h3><center>Operadores</center></h3>\n",
    "\n",
    "|         |                      |\n",
    "|---------|----------------------|\n",
    "| \\|      | operador \"or\"        |\n",
    "| \\\\      | Escapar, o interpretar literalmente |\n",
    "| []      | conjunto (cada elemento estará automáticamente separado por \"or\")             |\n",
    "|[m-z3-9] | rangos               |\n",
    "\n",
    "\n",
    "<h3><center>Cuantificadores</center></h3>\n",
    "\n",
    "|      |                                              |\n",
    "|------|----------------------------------------------|\n",
    "| +    | Uno o más del elemento anterior              |\n",
    "| *    | Cero o más del elemento anterior             |\n",
    "| {4,} | Cuatro o más del elemento anterior           |\n",
    "| ?    | Cambia el operador anterior de lazy a greedy |"
   ]
  },
  {
   "cell_type": "code",
   "execution_count": 2,
   "id": "810aae11",
   "metadata": {},
   "outputs": [
    {
     "data": {
      "text/plain": [
       "['1564232324']"
      ]
     },
     "execution_count": 2,
     "metadata": {},
     "output_type": "execute_result"
    }
   ],
   "source": [
    "# En realidad los telefonos no son cualquier seguidilla de numeros\n",
    "# suelen tener entre 6 y 8 numeros despues del 15\n",
    "texto = \"Mi nombre es María y mi teléfono es 1564232324\"\n",
    "regla_de_busqueda = \"15\\d{6,8}\"\n",
    "re.findall(regla_de_busqueda,texto)"
   ]
  },
  {
   "cell_type": "code",
   "execution_count": 4,
   "id": "6a267826",
   "metadata": {},
   "outputs": [
    {
     "name": "stdout",
     "output_type": "stream",
     "text": [
      "['114232324', '154232324']\n",
      "['11', '15']\n"
     ]
    }
   ],
   "source": [
    "# En realidad los telefonos no arrancan siempre con 15\n",
    "# capaz empiezan con 11 si son de buenos aires por ejemplo\n",
    "texto = \"Mi nombre es Carlos y mi teléfono es 114232324 154232324\"\n",
    "regla_de_busqueda = \"(?:15|11)\\d{6,8}\"# que coincida con con 15 or 11\n",
    "print(re.findall(regla_de_busqueda,texto))\n",
    "\n",
    "regla_de_busqueda2 = \"(15|11)\\d{6,8}\"# que coincida con con 15 or 11\n",
    "print(re.findall(regla_de_busqueda2,texto))"
   ]
  },
  {
   "cell_type": "code",
   "execution_count": null,
   "id": "45a48c4e",
   "metadata": {},
   "outputs": [],
   "source": [
    "# En realidad los telefonos pueden tener un guión o espacio a parte de números\n",
    "texto = \"Mi nombre es asfasfeaf33 y mi teléfono es 11 6423-2324\"\n",
    "regla_de_busqueda = \"(?:15|11)[0-9\\s-]{6,10}\"\n",
    "re.findall(regla_de_busqueda,texto)"
   ]
  },
  {
   "cell_type": "code",
   "execution_count": null,
   "id": "d37baf17",
   "metadata": {},
   "outputs": [],
   "source": [
    "# b- Como extraer el mes de un texto\n",
    "texto = \"REPORTE DE PERFOMANCE - MES DE julio y agosto\"\n",
    "regla_de_busqueda = \"(MES DE (?:JULIO|AGOSTO|JUNIO))\"\n",
    "re.findall(regla_de_busqueda,texto, flags=re.IGNORECASE)"
   ]
  },
  {
   "cell_type": "code",
   "execution_count": null,
   "id": "02900c84",
   "metadata": {},
   "outputs": [],
   "source": [
    "# ¿Cómo hago que pare de buscar el operador * ?\n",
    "con \\ una vez que encuentro lo que busco deja de buscar. en cambio de la otra forma busca entodo el strinh\n",
    "text = \"me llamo pedro. me gusta el rock.\"\n",
    "regla_de_busqueda_no_greedy = \"(.*?)\\.\"\n",
    "regla_de_busqueda_greedy = \"(.*)\\.\"\n",
    "print(re.findall(regla_de_busqueda_no_greedy,text))\n",
    "print(re.findall(regla_de_busqueda_greedy,text))"
   ]
  },
  {
   "cell_type": "code",
   "execution_count": null,
   "id": "baf35179",
   "metadata": {},
   "outputs": [],
   "source": [
    "import re\n",
    "\n",
    "comentario_de_mercadolibre = 'hola soy @mariadominguez24, me interesa el producto, te dejo mi celu 1565525233, saludos'\n",
    "\n",
    "def encontrar_telefonos(texto):\n",
    "    regla_de_busqueda = r'(15[0-9]{8})'\n",
    "    return re.findall(regla_de_busqueda, texto)\n",
    "\n",
    "def encontrar_usuarios(texto):\n",
    "    regla_de_busqueda = r'@([a-zA-Z0-9]+)'\n",
    "    return re.findall(regla_de_busqueda, texto)\n",
    "\n",
    "print(encontrar_telefonos(comentario_de_mercadolibre))\n",
    "print(encontrar_usuarios(comentario_de_mercadolibre))"
   ]
  }
 ],
 "metadata": {
  "kernelspec": {
   "display_name": "Python 3",
   "language": "python",
   "name": "python3"
  },
  "language_info": {
   "codemirror_mode": {
    "name": "ipython",
    "version": 3
   },
   "file_extension": ".py",
   "mimetype": "text/x-python",
   "name": "python",
   "nbconvert_exporter": "python",
   "pygments_lexer": "ipython3",
   "version": "3.8.8"
  }
 },
 "nbformat": 4,
 "nbformat_minor": 5
}
