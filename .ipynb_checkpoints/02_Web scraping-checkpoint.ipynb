{
 "cells": [
  {
   "cell_type": "markdown",
   "id": "39ec8374",
   "metadata": {},
   "source": [
    "# Ejemplos propios de web scarping"
   ]
  },
  {
   "cell_type": "code",
   "execution_count": null,
   "id": "2d5bdf19",
   "metadata": {},
   "outputs": [],
   "source": [
    "# librerias de interes\n",
    "import requests\n",
    "from PIL import Image\n",
    "from io import BytesIO\n",
    "import re"
   ]
  }
 ],
 "metadata": {
  "kernelspec": {
   "display_name": "Python 3",
   "language": "python",
   "name": "python3"
  },
  "language_info": {
   "codemirror_mode": {
    "name": "ipython",
    "version": 3
   },
   "file_extension": ".py",
   "mimetype": "text/x-python",
   "name": "python",
   "nbconvert_exporter": "python",
   "pygments_lexer": "ipython3",
   "version": "3.8.8"
  }
 },
 "nbformat": 4,
 "nbformat_minor": 5
}
